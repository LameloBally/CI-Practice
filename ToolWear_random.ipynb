{
  "nbformat": 4,
  "nbformat_minor": 0,
  "metadata": {
    "colab": {
      "provenance": [],
      "authorship_tag": "ABX9TyNXEusnGoFfohnRFV8W8Gzc",
      "include_colab_link": true
    },
    "kernelspec": {
      "name": "python3",
      "display_name": "Python 3"
    },
    "language_info": {
      "name": "python"
    }
  },
  "cells": [
    {
      "cell_type": "markdown",
      "metadata": {
        "id": "view-in-github",
        "colab_type": "text"
      },
      "source": [
        "<a href=\"https://colab.research.google.com/github/LameloBally/CI-Practice/blob/main/ToolWear_random.ipynb\" target=\"_parent\"><img src=\"https://colab.research.google.com/assets/colab-badge.svg\" alt=\"Open In Colab\"/></a>"
      ]
    },
    {
      "cell_type": "code",
      "execution_count": 9,
      "metadata": {
        "colab": {
          "base_uri": "https://localhost:8080/"
        },
        "id": "rSji9U4RKdlD",
        "outputId": "a3c80835-e357-4aa1-d03d-4baf1282cf8e"
      },
      "outputs": [
        {
          "output_type": "stream",
          "name": "stdout",
          "text": [
            "Drive already mounted at /content/drive; to attempt to forcibly remount, call drive.mount(\"/content/drive\", force_remount=True).\n",
            "/content/drive/MyDrive/ToolWear\n"
          ]
        }
      ],
      "source": [
        "\n",
        "# 해당 코드는 코랩 파일과 교수님의 구글 드라이브를 연동시키는 코드입니다.\n",
        "# 모든 코드를 돌린 후에 https://drive.google.com/drive/my-drive 로 가면 ToolWear 폴더 밑에 원하시는 파일이 생성된것을 확인할 수 있습니다.\n",
        "# 왼쪽의 화살표 버튼, 혹은 shift + 엔터를 누르면 네모 박스(셀) 안의 코드가 실행됩니다.\n",
        "\n",
        "\n",
        "from google.colab import drive\n",
        "drive.mount('/content/drive')\n",
        "\n",
        "# 구글 드라이브내에 연동시킬 폴더 이름\n",
        "\n",
        "FOLDERNAME = 'ToolWear'\n",
        "\n",
        "import sys\n",
        "sys.path.append('/content/drive/MyDrive/{}'.format(FOLDERNAME))\n",
        "\n",
        "# Change dariectory to current folder\n",
        "%cd /content/drive/MyDrive/$FOLDERNAME\n",
        "\n",
        "output_dir = \"/content/drive/MyDrive/ToolWear\""
      ]
    },
    {
      "cell_type": "code",
      "source": [
        "import numpy as np\n",
        "!pip install pandas openpyxl"
      ],
      "metadata": {
        "colab": {
          "base_uri": "https://localhost:8080/"
        },
        "id": "LYnw6w8dKvIB",
        "outputId": "2c2ad719-077d-43ba-8890-4b9c78f3a081"
      },
      "execution_count": 10,
      "outputs": [
        {
          "output_type": "stream",
          "name": "stdout",
          "text": [
            "Requirement already satisfied: pandas in /usr/local/lib/python3.10/dist-packages (2.0.3)\n",
            "Requirement already satisfied: openpyxl in /usr/local/lib/python3.10/dist-packages (3.1.4)\n",
            "Requirement already satisfied: python-dateutil>=2.8.2 in /usr/local/lib/python3.10/dist-packages (from pandas) (2.8.2)\n",
            "Requirement already satisfied: pytz>=2020.1 in /usr/local/lib/python3.10/dist-packages (from pandas) (2023.4)\n",
            "Requirement already satisfied: tzdata>=2022.1 in /usr/local/lib/python3.10/dist-packages (from pandas) (2024.1)\n",
            "Requirement already satisfied: numpy>=1.21.0 in /usr/local/lib/python3.10/dist-packages (from pandas) (1.25.2)\n",
            "Requirement already satisfied: et-xmlfile in /usr/local/lib/python3.10/dist-packages (from openpyxl) (1.1.0)\n",
            "Requirement already satisfied: six>=1.5 in /usr/local/lib/python3.10/dist-packages (from python-dateutil>=2.8.2->pandas) (1.16.0)\n"
          ]
        }
      ]
    },
    {
      "cell_type": "code",
      "source": [
        "data_X = np.load('data_X.npy')"
      ],
      "metadata": {
        "id": "7hanVzaILEqs"
      },
      "execution_count": 11,
      "outputs": []
    },
    {
      "cell_type": "code",
      "source": [
        "data_y = np.load('data_y.npy')"
      ],
      "metadata": {
        "id": "nxC-rbTjMOmy"
      },
      "execution_count": 12,
      "outputs": []
    },
    {
      "cell_type": "code",
      "source": [
        "data_X.shape"
      ],
      "metadata": {
        "colab": {
          "base_uri": "https://localhost:8080/"
        },
        "id": "V7yyRC08LWRk",
        "outputId": "0462bf15-b049-4f90-e70c-a96f71c79233"
      },
      "execution_count": 13,
      "outputs": [
        {
          "output_type": "execute_result",
          "data": {
            "text/plain": [
              "(7500, 132, 3)"
            ]
          },
          "metadata": {},
          "execution_count": 13
        }
      ]
    },
    {
      "cell_type": "code",
      "source": [
        "# 전체 샘플 중에 10프로를 얻기 위한 코드\n",
        "# sample_interval의 크기를 조절해서 원하시는 비율로 데이터를 얻을 수 있습니다.\n",
        "# (1 / sample_interval) 의 샘플 데이터를 얻기\n",
        "\n",
        "num_samples = 7500\n",
        "sample_interval = 10\n",
        "num_selected_samples = num_samples // sample_interval\n",
        "\n",
        "selected_X = np.zeros((num_selected_samples, 10))\n",
        "selected_y = np.zeros(num_selected_samples)"
      ],
      "metadata": {
        "id": "BfWKRtHULl7_"
      },
      "execution_count": 14,
      "outputs": []
    },
    {
      "cell_type": "code",
      "source": [
        "for i in range(num_selected_samples):\n",
        "    idx = i * sample_interval\n",
        "\n",
        "    # 처음 몇개의 time step을 확보할지 결정할 수 있습니다.\n",
        "\n",
        "    selected_X[i] = data_X[idx, :10, 0]  # x 데이터 중 처음 10개의 time step 만 저장\n",
        "    selected_y[i] = data_y[idx]  # 해당 되는 target 데이터의 값"
      ],
      "metadata": {
        "id": "iCpeqxFDNzQo"
      },
      "execution_count": 15,
      "outputs": []
    },
    {
      "cell_type": "code",
      "source": [
        "combined_data = np.column_stack((selected_X, selected_y))"
      ],
      "metadata": {
        "id": "xkwdDozbOQf_"
      },
      "execution_count": 16,
      "outputs": []
    },
    {
      "cell_type": "code",
      "source": [
        "combined_data.shape"
      ],
      "metadata": {
        "colab": {
          "base_uri": "https://localhost:8080/"
        },
        "id": "4SVxvuZHOSau",
        "outputId": "e7bd89f3-684b-4379-d742-1162e57896e7"
      },
      "execution_count": 17,
      "outputs": [
        {
          "output_type": "execute_result",
          "data": {
            "text/plain": [
              "(750, 11)"
            ]
          },
          "metadata": {},
          "execution_count": 17
        }
      ]
    },
    {
      "cell_type": "code",
      "source": [
        "import numpy as np\n",
        "import pandas as pd\n",
        "\n",
        "# Convert the combined_data to a DataFrame\n",
        "df = pd.DataFrame(combined_data, columns=[f'timestep_{i+1}' for i in range(10)] + ['tool_wear'])\n",
        "\n",
        "# Save to .xlsx file\n",
        "df.to_excel('combined_data.xlsx', index=False)\n",
        "\n",
        "# Save to .csv file\n",
        "df.to_csv('combined_data.csv', index=False)\n",
        "\n",
        "print(\"Files saved successfully!\")"
      ],
      "metadata": {
        "colab": {
          "base_uri": "https://localhost:8080/"
        },
        "id": "A_8I25CfOU5c",
        "outputId": "5ac32978-d302-405c-fde1-92268ea6cf39"
      },
      "execution_count": 18,
      "outputs": [
        {
          "output_type": "stream",
          "name": "stdout",
          "text": [
            "Files saved successfully!\n"
          ]
        }
      ]
    }
  ]
}